{
 "cells": [
  {
   "cell_type": "markdown",
   "metadata": {},
   "source": [
    "## Descriptive Statistics"
   ]
  },
  {
   "cell_type": "markdown",
   "metadata": {},
   "source": [
    "#### MEAN"
   ]
  },
  {
   "cell_type": "code",
   "execution_count": 29,
   "metadata": {},
   "outputs": [
    {
     "name": "stdout",
     "output_type": "stream",
     "text": [
      "Mean sepal_length:\n",
      "       species  sepal_length\n",
      "0      setosa         5.006\n",
      "1  versicolor         5.936\n",
      "2   virginica         6.588\n",
      "Mean sepal_width:\n",
      "       species  sepal_width\n",
      "0      setosa        3.428\n",
      "1  versicolor        2.770\n",
      "2   virginica        2.974\n",
      "Mean petal_length:\n",
      "       species  petal_length\n",
      "0      setosa         1.462\n",
      "1  versicolor         4.260\n",
      "2   virginica         5.552\n",
      "Mean petal_width:\n",
      "       species  petal_width\n",
      "0      setosa        0.246\n",
      "1  versicolor        1.326\n",
      "2   virginica        2.026\n"
     ]
    }
   ],
   "source": [
    "import pandas as pd\n",
    "import seaborn  as sns\n",
    "import matplotlib.pyplot as plt\n",
    "\n",
    "iris=sns.load_dataset('iris')\n",
    "\n",
    "## MEAN\n",
    "mean_sepal_length=iris.groupby('species')['sepal_length'].mean().reset_index()\n",
    "print(\"Mean sepal_length:\\n\",mean_sepal_length)\n",
    "\n",
    "mean_sepal_width=iris.groupby('species')['sepal_width'].mean().reset_index()\n",
    "print(\"Mean sepal_width:\\n\",mean_sepal_width)\n",
    "\n",
    "mean_petal_length=iris.groupby('species')['petal_length'].mean().reset_index()\n",
    "print(\"Mean petal_length:\\n\",mean_petal_length)\n",
    "\n",
    "mean_petal_width=iris.groupby('species')['petal_width'].mean().reset_index()\n",
    "print(\"Mean petal_width:\\n\",mean_petal_width)\n"
   ]
  },
  {
   "cell_type": "markdown",
   "metadata": {},
   "source": [
    "#### MEDIAN\n"
   ]
  },
  {
   "cell_type": "code",
   "execution_count": 30,
   "metadata": {},
   "outputs": [
    {
     "name": "stdout",
     "output_type": "stream",
     "text": [
      "Median sepal_length:\n",
      "       species  sepal_length\n",
      "0      setosa           5.0\n",
      "1  versicolor           5.9\n",
      "2   virginica           6.5\n",
      "Median sepal_width:\n",
      "       species  sepal_width\n",
      "0      setosa          3.4\n",
      "1  versicolor          2.8\n",
      "2   virginica          3.0\n",
      "Median petal_length:\n",
      "       species  petal_length\n",
      "0      setosa          1.50\n",
      "1  versicolor          4.35\n",
      "2   virginica          5.55\n",
      "Median petal_width:\n",
      "       species  petal_width\n",
      "0      setosa          0.2\n",
      "1  versicolor          1.3\n",
      "2   virginica          2.0\n"
     ]
    }
   ],
   "source": [
    "\n",
    "## MEDIAN\n",
    "median_sepal_length=iris.groupby('species')['sepal_length'].median().reset_index()\n",
    "print(\"Median sepal_length:\\n\",median_sepal_length)\n",
    "\n",
    "median_sepal_width=iris.groupby('species')['sepal_width'].median().reset_index()\n",
    "print(\"Median sepal_width:\\n\",median_sepal_width)\n",
    "\n",
    "median_petal_length=iris.groupby('species')['petal_length'].median().reset_index()\n",
    "print(\"Median petal_length:\\n\",median_petal_length)\n",
    "\n",
    "median_petal_width=iris.groupby('species')['petal_width'].median().reset_index()\n",
    "print(\"Median petal_width:\\n\",median_petal_width)"
   ]
  },
  {
   "cell_type": "markdown",
   "metadata": {},
   "source": [
    "#### STANDARD DEVIATION"
   ]
  },
  {
   "cell_type": "code",
   "execution_count": 31,
   "metadata": {},
   "outputs": [
    {
     "name": "stdout",
     "output_type": "stream",
     "text": [
      "standard devation of sepal_length:\n",
      "       species  sepal_length\n",
      "0      setosa           5.0\n",
      "1  versicolor           5.9\n",
      "2   virginica           6.5\n",
      "standard deviation of sepal_width:\n",
      "       species  sepal_width\n",
      "0      setosa          3.4\n",
      "1  versicolor          2.8\n",
      "2   virginica          3.0\n",
      "standard deviation of petal_length:\n",
      "       species  petal_length\n",
      "0      setosa          1.50\n",
      "1  versicolor          4.35\n",
      "2   virginica          5.55\n",
      "standard deviation of petal_width:\n",
      "       species  petal_width\n",
      "0      setosa     0.105386\n",
      "1  versicolor     0.197753\n",
      "2   virginica     0.274650\n"
     ]
    }
   ],
   "source": [
    "## STANDARD DEVIATION\n",
    "std_sepal_length=iris.groupby('species')['sepal_length'].median().reset_index()\n",
    "print(\"standard devation of sepal_length:\\n\",std_sepal_length)\n",
    "\n",
    "std_sepal_width=iris.groupby('species')['sepal_width'].median().reset_index()\n",
    "print(\"\\nstandard deviation of sepal_width:\\n\",std_sepal_width)\n",
    "\n",
    "std_petal_length=iris.groupby('species')['petal_length'].median().reset_index()\n",
    "print(\"\\nstandard deviation of petal_length:\\n\",std_petal_length)\n",
    "\n",
    "std_petal_width=iris.groupby('species')['petal_width'].std().reset_index()\n",
    "print(\"\\nstandard deviation of petal_width:\\n\",std_petal_width)"
   ]
  },
  {
   "cell_type": "code",
   "execution_count": 35,
   "metadata": {},
   "outputs": [
    {
     "data": {
      "text/html": [
       "<div>\n",
       "<style scoped>\n",
       "    .dataframe tbody tr th:only-of-type {\n",
       "        vertical-align: middle;\n",
       "    }\n",
       "\n",
       "    .dataframe tbody tr th {\n",
       "        vertical-align: top;\n",
       "    }\n",
       "\n",
       "    .dataframe thead th {\n",
       "        text-align: right;\n",
       "    }\n",
       "</style>\n",
       "<table border=\"1\" class=\"dataframe\">\n",
       "  <thead>\n",
       "    <tr style=\"text-align: right;\">\n",
       "      <th></th>\n",
       "      <th>sepal_length</th>\n",
       "      <th>sepal_width</th>\n",
       "      <th>petali_length</th>\n",
       "      <th>petal_width</th>\n",
       "    </tr>\n",
       "  </thead>\n",
       "  <tbody>\n",
       "    <tr>\n",
       "      <th>sepal_length</th>\n",
       "      <td>1.000000</td>\n",
       "      <td>-0.117570</td>\n",
       "      <td>0.871754</td>\n",
       "      <td>0.817941</td>\n",
       "    </tr>\n",
       "    <tr>\n",
       "      <th>sepal_width</th>\n",
       "      <td>-0.117570</td>\n",
       "      <td>1.000000</td>\n",
       "      <td>-0.428440</td>\n",
       "      <td>-0.366126</td>\n",
       "    </tr>\n",
       "    <tr>\n",
       "      <th>petali_length</th>\n",
       "      <td>0.871754</td>\n",
       "      <td>-0.428440</td>\n",
       "      <td>1.000000</td>\n",
       "      <td>0.962865</td>\n",
       "    </tr>\n",
       "    <tr>\n",
       "      <th>petal_width</th>\n",
       "      <td>0.817941</td>\n",
       "      <td>-0.366126</td>\n",
       "      <td>0.962865</td>\n",
       "      <td>1.000000</td>\n",
       "    </tr>\n",
       "  </tbody>\n",
       "</table>\n",
       "</div>"
      ],
      "text/plain": [
       "               sepal_length  sepal_width  petali_length  petal_width\n",
       "sepal_length       1.000000    -0.117570       0.871754     0.817941\n",
       "sepal_width       -0.117570     1.000000      -0.428440    -0.366126\n",
       "petali_length      0.871754    -0.428440       1.000000     0.962865\n",
       "petal_width        0.817941    -0.366126       0.962865     1.000000"
      ]
     },
     "execution_count": 35,
     "metadata": {},
     "output_type": "execute_result"
    }
   ],
   "source": [
    "df=pd.DataFrame({'sepal_length':iris['sepal_length'],'sepal_width':iris['sepal_width'],'petal_length':iris['petal_length'],'petal_width':iris['petal_width']})\n",
    "df.corr()"
   ]
  },
  {
   "cell_type": "markdown",
   "metadata": {},
   "source": [
    "The feature petal_length and petal_width are strongly coorelated as there is a strong 0.96 coorelation value between them. A sepal_width of the flower is observed to be very different from the other factors showing a weak correlation score."
   ]
  },
  {
   "cell_type": "code",
   "execution_count": 37,
   "metadata": {},
   "outputs": [
    {
     "name": "stdout",
     "output_type": "stream",
     "text": [
      "Probaility of A given that B: 0.375\n",
      "Probaility of B given that A: 0.6\n"
     ]
    }
   ],
   "source": [
    "prob_A=50\n",
    "prob_B=80\n",
    "prob_A_And_B=30\n",
    "prob_notA_notB=100\n",
    "prob_A_given_B=prob_A_And_B/prob_B ###P(A|B)\n",
    "prob_B_given_A=prob_A_And_B/prob_A ###P(B|A)\n",
    "print(\"Probaility of A given that B:\",prob_A_given_B)\n",
    "print(\"Probaility of B given that A:\",prob_B_given_A)\n"
   ]
  },
  {
   "cell_type": "code",
   "execution_count": 46,
   "metadata": {},
   "outputs": [
    {
     "name": "stdout",
     "output_type": "stream",
     "text": [
      "The probability that an email is spam given that it contains the keyword:0.6364\n"
     ]
    }
   ],
   "source": [
    "P_Spam=0.2\n",
    "P_Not_Spam=0.8\n",
    "P_Keyword_given_Spam=0.7\n",
    "P_Keyword_given_Not_Spam=0.1\n",
    "P_Keyword=P_Not_Spam*P_Keyword_given_Not_Spam+P_Keyword_given_Spam*P_Spam\n",
    "P_Spam_given_Keyword=P_Spam*P_Keyword_given_Spam/P_Keyword\n",
    "print(f\"\\n\\nThe probability that an email is spam given that it contains the keyword:{P_Spam_given_Keyword:.4f}\")\n"
   ]
  }
 ],
 "metadata": {
  "kernelspec": {
   "display_name": "Python 3",
   "language": "python",
   "name": "python3"
  },
  "language_info": {
   "codemirror_mode": {
    "name": "ipython",
    "version": 3
   },
   "file_extension": ".py",
   "mimetype": "text/x-python",
   "name": "python",
   "nbconvert_exporter": "python",
   "pygments_lexer": "ipython3",
   "version": "3.12.8"
  }
 },
 "nbformat": 4,
 "nbformat_minor": 2
}
